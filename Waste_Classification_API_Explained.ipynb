{
 "cells": [
  {
   "cell_type": "markdown",
   "id": "411b182c",
   "metadata": {},
   "source": [
    "# 🧠 Waste Classification & Detection API\n",
    "API này sử dụng FastAPI để phân loại rác và phát hiện đối tượng bằng TensorFlow & YOLOv8.\n",
    "## 🗂️ Nội dung:\n",
    "- Tải mô hình TensorFlow & YOLO\n",
    "- Phân loại rác (Tái chế / Không tái chế)\n",
    "- Phân loại chi tiết loại rác\n",
    "- Phát hiện đối tượng rác bằng YOLOv8\n",
    "- FastAPI Endpoint & hướng dẫn chạy\n"
   ]
  },
  {
   "cell_type": "code",
   "execution_count": null,
   "id": "f7f56f2c",
   "metadata": {},
   "outputs": [],
   "source": [
    "# 🔧 1. Import thư viện và cấu hình hệ thống\n",
    "import os\n",
    "import cv2\n",
    "import numpy as np\n",
    "import tensorflow as tf\n",
    "from PIL import Image\n",
    "from ultralytics import YOLO\n",
    "from fastapi import FastAPI, UploadFile, File\n",
    "from fastapi.responses import JSONResponse\n",
    "from pydantic import BaseModel\n",
    "from typing import List, Dict\n",
    "import logging"
   ]
  },
  {
   "cell_type": "markdown",
   "id": "9190dd84",
   "metadata": {},
   "source": [
    "## 📁 2. Đường dẫn mô hình và khởi tạo biến toàn cục"
   ]
  },
  {
   "cell_type": "code",
   "execution_count": null,
   "id": "53fbaa2f",
   "metadata": {},
   "outputs": [],
   "source": [
    "MODEL_PATHS = {\n",
    "    'recyclable': 'models/Model1.Best.keras',\n",
    "    'recyclable_detail': 'models/model2A_EfficientNetB2.keras',\n",
    "    'non_recyclable_detail': 'models/model2B_EfficientNetB2_best.keras',\n",
    "    'yolo': 'runs/detect/train4/weights/last.pt'\n",
    "}\n",
    "models = {}  # chứa các model đã load"
   ]
  },
  {
   "cell_type": "markdown",
   "id": "776790bb",
   "metadata": {},
   "source": [
    "## 🧠 3. Hàm load model"
   ]
  },
  {
   "cell_type": "code",
   "execution_count": null,
   "id": "d059ebc9",
   "metadata": {},
   "outputs": [],
   "source": [
    "def load_models():\n",
    "    for name, path in MODEL_PATHS.items():\n",
    "        if name == 'yolo':\n",
    "            models[name] = YOLO(path)\n",
    "        else:\n",
    "            models[name] = tf.keras.models.load_model(path, compile=False)\n",
    "    print(\"✅ Models loaded!\")"
   ]
  },
  {
   "cell_type": "markdown",
   "id": "b5298904",
   "metadata": {},
   "source": [
    "## 🖼️ 4. Tiền xử lý ảnh trước khi phân loại"
   ]
  },
  {
   "cell_type": "code",
   "execution_count": null,
   "id": "49ad2f35",
   "metadata": {},
   "outputs": [],
   "source": [
    "def preprocess_image(image_np, target_size=(224, 224)):\n",
    "    img = cv2.resize(image_np, target_size)\n",
    "    img = cv2.cvtColor(img, cv2.COLOR_BGR2RGB)\n",
    "    img = img.astype('float32') / 255.0\n",
    "    return np.expand_dims(img, axis=0)"
   ]
  },
  {
   "cell_type": "markdown",
   "id": "84b9b00b",
   "metadata": {},
   "source": [
    "## ♻️ 5. Phân loại rác: Tái chế hay không? Sau đó chi tiết loại rác"
   ]
  },
  {
   "cell_type": "code",
   "execution_count": null,
   "id": "c548450a",
   "metadata": {},
   "outputs": [],
   "source": [
    "def classify_garbage(image_np):\n",
    "    processed = preprocess_image(image_np)\n",
    "    prob = models['recyclable'].predict(processed)[0][0]\n",
    "    if prob > 0.5:\n",
    "        detail = models['recyclable_detail'].predict(processed)[0]\n",
    "        label = np.argmax(detail)\n",
    "        return 'Tái chế', label, prob\n",
    "    else:\n",
    "        detail = models['non_recyclable_detail'].predict(processed)[0]\n",
    "        label = np.argmax(detail)\n",
    "        return 'Không tái chế', label, 1 - prob"
   ]
  },
  {
   "cell_type": "markdown",
   "id": "34919fdc",
   "metadata": {},
   "source": [
    "## 📦 6. Phát hiện rác bằng YOLOv8"
   ]
  },
  {
   "cell_type": "code",
   "execution_count": null,
   "id": "fd01195b",
   "metadata": {},
   "outputs": [],
   "source": [
    "def detect_yolo(image_pil):\n",
    "    result = models['yolo'](image_pil)[0]\n",
    "    for box in result.boxes:\n",
    "        print(models['yolo'].names[int(box.cls[0])], box.xyxy[0].tolist())"
   ]
  }
 ],
 "metadata": {},
 "nbformat": 4,
 "nbformat_minor": 5
}
